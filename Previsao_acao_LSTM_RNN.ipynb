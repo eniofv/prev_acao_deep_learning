{
  "nbformat": 4,
  "nbformat_minor": 0,
  "metadata": {
    "kernelspec": {
      "display_name": "Python 3",
      "language": "python",
      "name": "python3"
    },
    "language_info": {
      "codemirror_mode": {
        "name": "ipython",
        "version": 3
      },
      "file_extension": ".py",
      "mimetype": "text/x-python",
      "name": "python",
      "nbconvert_exporter": "python",
      "pygments_lexer": "ipython3",
      "version": "3.8.2"
    },
    "colab": {
      "name": "TCC_previsao_acao_LSTM_RNN.ipynb",
      "provenance": [],
      "collapsed_sections": [],
      "include_colab_link": true
    }
  },
  "cells": [
    {
      "cell_type": "markdown",
      "metadata": {
        "id": "view-in-github",
        "colab_type": "text"
      },
      "source": [
        "<a href=\"https://colab.research.google.com/github/eniofv/prev_acao_deep_learning/blob/master/Previsao_acao_LSTM_RNN.ipynb\" target=\"_parent\"><img src=\"https://colab.research.google.com/assets/colab-badge.svg\" alt=\"Open In Colab\"/></a>"
      ]
    },
    {
      "cell_type": "markdown",
      "metadata": {
        "id": "F7Y8G6UfVX08",
        "colab_type": "text"
      },
      "source": [
        "# Redes neurais recorrentes\n",
        "Este notebook faz uma simuação de previsão de preços de ações, a partir de uma série temporal\n",
        "\n",
        "Como pré requisito é necessario instalar a biblioteca Darts \n",
        "o comando é o:  pip install u8darts"
      ]
    },
    {
      "cell_type": "code",
      "metadata": {
        "id": "UPZmJ0nVVX0-",
        "colab_type": "code",
        "colab": {}
      },
      "source": [
        "pip install u8darts \n"
      ],
      "execution_count": null,
      "outputs": []
    },
    {
      "cell_type": "code",
      "metadata": {
        "id": "Rz6yVZCkVu3Q",
        "colab_type": "code",
        "colab": {}
      },
      "source": [
        "%load_ext autoreload\n",
        "%autoreload 2\n",
        "%matplotlib inline"
      ],
      "execution_count": null,
      "outputs": []
    },
    {
      "cell_type": "code",
      "metadata": {
        "id": "vFUJq7yKVX1I",
        "colab_type": "code",
        "colab": {}
      },
      "source": [
        "import numpy as np\n",
        "import pandas as pd\n",
        "import torch\n",
        "import torch.nn as nn\n",
        "import torch.optim as optim\n",
        "\n",
        "import shutil\n",
        "from sklearn.preprocessing import MinMaxScaler\n",
        "from tqdm import tqdm_notebook as tqdm\n",
        "\n",
        "from torch.utils.tensorboard import SummaryWriter\n",
        "import matplotlib.pyplot as plt\n",
        "\n",
        "from darts import TimeSeries\n",
        "from darts.preprocessing import ScalerWrapper\n",
        "from darts.models import RNNModel\n",
        "from darts.backtesting import backtest_forecasting\n",
        "from darts.metrics import mape\n",
        "from darts.metrics import r2_score\n",
        "from darts.metrics import coefficient_of_variation\n",
        "from darts.metrics import rmse\n",
        "from darts.metrics import mse\n",
        "\n",
        "\n",
        "import warnings\n",
        "warnings.filterwarnings(\"ignore\")\n",
        "import logging\n",
        "logging.disable(logging.CRITICAL)"
      ],
      "execution_count": 45,
      "outputs": []
    },
    {
      "cell_type": "markdown",
      "metadata": {
        "id": "-bemMOuvVX1Q",
        "colab_type": "text"
      },
      "source": [
        "### Parâmetros:"
      ]
    },
    {
      "cell_type": "code",
      "metadata": {
        "id": "7cw1Zo91VX1R",
        "colab_type": "code",
        "colab": {}
      },
      "source": [
        "# Número de períodos anteriores que serão considerados, 3 - meses - aprox 66 dias úteis\n",
        "SEQ_LENGTH = 66\n",
        "# Número de features no último estado oculto\n",
        "HIDDEN_SIZE = 25\n",
        "# Número de passos de saída para prever\n",
        "OUTPUT_LEN = 1\n",
        "# Número de camadas RNN empilhadas\n",
        "NUM_LAYERS = 1\n",
        "# \n",
        "BATCH_SIZE = 16\n",
        "# \n",
        "EPOCAS = 400\n",
        "# Modelo da rede neural - Pode se 'LSTM, 'RNN' ou 'GRU'\n",
        "MODELO = 'LSTM'\n",
        "# Diretório ao importar arquivos no colab o diretório default é o content\n",
        "DIRETORIO = '/content/'\n",
        "# Nome do arquivo de entrada\n",
        "NOME_ARQUIVO = ''BBDC4_2Ano.xlsx'\n",
        "#\n",
        "DATA_FIM_TREINO = '20190401'\n",
        "#\n",
        "ACAO = 'BBDC4'"
      ],
      "execution_count": 59,
      "outputs": []
    },
    {
      "cell_type": "markdown",
      "metadata": {
        "id": "lGs7ZWw7hbv8",
        "colab_type": "text"
      },
      "source": [
        "Será utilizada uma rede neural LSTM, para utlilizacão de outra rede é só substituir  ´LSTM' por 'RNN' ou ´GRU'"
      ]
    },
    {
      "cell_type": "code",
      "metadata": {
        "id": "WFjyQOxWhLPS",
        "colab_type": "code",
        "colab": {}
      },
      "source": [
        "modelo_previsao_acao = RNNModel(\n",
        "    model=MODELO,   # Para mudar o modelo é só substituir LSTM, RNN, ou GRU\n",
        "    output_length=OUTPUT_LEN,\n",
        "    hidden_size=HIDDEN_SIZE,\n",
        "    n_rnn_layers=NUM_LAYERS,\n",
        "    input_length=SEQ_LENGTH,\n",
        "    batch_size=BATCH_SIZE,\n",
        "    n_epochs=EPOCAS,\n",
        "    optimizer_kwargs={'lr': 1e-3}, \n",
        "    model_name=ACAO+'_'+MODELO, log_tensorboard=True\n",
        ")"
      ],
      "execution_count": 61,
      "outputs": []
    },
    {
      "cell_type": "markdown",
      "metadata": {
        "id": "Jr0W1x4Lu37T",
        "colab_type": "text"
      },
      "source": [
        "Para backtest será utilizada uma rede RNN - o número de épocas é menor devido ao tempo de execução"
      ]
    },
    {
      "cell_type": "code",
      "metadata": {
        "id": "xneeQLPooT6K",
        "colab_type": "code",
        "colab": {}
      },
      "source": [
        "modelo_previsao_acao_backtest = RNNModel(\n",
        "    model='RNN',\n",
        "    output_length=OUTPUT_LEN,\n",
        "    hidden_size=HIDDEN_SIZE,\n",
        "    n_rnn_layers=NUM_LAYERS,\n",
        "    input_length=SEQ_LENGTH,\n",
        "    batch_size=32,\n",
        "    n_epochs=200,\n",
        "    optimizer_kwargs={'lr': 1e-3},\n",
        "    model_name=ACAO+'_'+MODELO+'_BACK'\n",
        ")"
      ],
      "execution_count": null,
      "outputs": []
    },
    {
      "cell_type": "markdown",
      "metadata": {
        "id": "I-nzDN2cVX1c",
        "colab_type": "text"
      },
      "source": [
        "Leitura dos dados das Ações"
      ]
    },
    {
      "cell_type": "code",
      "metadata": {
        "id": "AWyxscacVX1d",
        "colab_type": "code",
        "colab": {}
      },
      "source": [
        "# Leitura dos dados:\n",
        "Arquivo = DIRETORIO+NOME_ARQUIVO\n",
        "df = pd.read_excel(Arquivo)\n",
        "df.describe()\n",
        "\n"
      ],
      "execution_count": null,
      "outputs": []
    },
    {
      "cell_type": "code",
      "metadata": {
        "id": "O9mxNQhSmgCY",
        "colab_type": "code",
        "colab": {}
      },
      "source": [
        "series = TimeSeries.from_dataframe(df, 'Data', 'Adj Close')\n",
        "#\n",
        "# Separa os dados de treino e validação:\n",
        "treino, validacao = series.split_after(pd.Timestamp(DATA_FIM_TREINO))\n",
        "treino.plot(label = 'Treino')\n",
        "validacao.plot(label = 'Validação')\n",
        "plt.legend()"
      ],
      "execution_count": null,
      "outputs": []
    },
    {
      "cell_type": "code",
      "metadata": {
        "id": "gtqan9EpYBoc",
        "colab_type": "code",
        "colab": {}
      },
      "source": [
        "series"
      ],
      "execution_count": null,
      "outputs": []
    },
    {
      "cell_type": "code",
      "metadata": {
        "id": "49iB7R53XTGT",
        "colab_type": "code",
        "colab": {}
      },
      "source": [
        "# Normaliza a série \n",
        "transforma = ScalerWrapper()\n",
        "treino_transformado = transforma.fit_transform(treino)\n",
        "validacao_transformado = transforma.transform(validacao)\n",
        "series_transformada = transforma.transform(series)"
      ],
      "execution_count": 65,
      "outputs": []
    },
    {
      "cell_type": "code",
      "metadata": {
        "id": "BnPkfmjDYrjR",
        "colab_type": "code",
        "colab": {}
      },
      "source": [
        "treino"
      ],
      "execution_count": null,
      "outputs": []
    },
    {
      "cell_type": "code",
      "metadata": {
        "id": "LMk07VsbRto_",
        "colab_type": "code",
        "colab": {}
      },
      "source": [
        "treino_transformado"
      ],
      "execution_count": null,
      "outputs": []
    },
    {
      "cell_type": "markdown",
      "metadata": {
        "id": "-zbVK4kwVX1j",
        "colab_type": "text"
      },
      "source": [
        "# Realiza o treino da rede neural"
      ]
    },
    {
      "cell_type": "code",
      "metadata": {
        "id": "eNRuMUPFVX1p",
        "colab_type": "code",
        "colab": {}
      },
      "source": [
        "modelo_previsao_acao.fit(treino_transformado, validacao_transformado, verbose=True)  "
      ],
      "execution_count": null,
      "outputs": []
    },
    {
      "cell_type": "markdown",
      "metadata": {
        "id": "6x8z3Dj3VX13",
        "colab_type": "text"
      },
      "source": [
        "### Imprime os parâmetros utilizados no modelo\n"
      ]
    },
    {
      "cell_type": "code",
      "metadata": {
        "id": "iP4Y22Da3o3U",
        "colab_type": "code",
        "colab": {}
      },
      "source": [
        "print(  'Parâmetros' )\n",
        "print(  'Nome ' + str(modelo_previsao_acao.model_name))\n",
        "print(  'Batch_size ' + str(modelo_previsao_acao.batch_size))\n",
        "print(  'Optmizer ' + str(modelo_previsao_acao.optimizer))\n",
        "print(  'Tamanho Entrada ' + str(modelo_previsao_acao.input_length))\n",
        "#print(  'my_model.input_length ' + str(my_model.)"
      ],
      "execution_count": null,
      "outputs": []
    },
    {
      "cell_type": "markdown",
      "metadata": {
        "id": "I3bYm2Y7uFPx",
        "colab_type": "text"
      },
      "source": [
        "# **Verifica as previsões no conjunto de validação**"
      ]
    },
    {
      "cell_type": "code",
      "metadata": {
        "id": "ogvon-eHVX15",
        "colab_type": "code",
        "colab": {}
      },
      "source": [
        "def Avalia_modelo(modelo,dias):\n",
        "    serie_previsao = modelo.predict(n=dias)\n",
        "    serie_previsao_normal = transforma.inverse_transform(serie_previsao)\n",
        "    plt.figure(figsize=(8,5))\n",
        "    validacao.plot(label='Real')\n",
        "    serie_previsao_normal.plot(label='Previsão')\n",
        "    plt.title(' Modelo ' + modelo.model_name + ' MAPE: {:.2f}%'.format(mape(serie_previsao, validacao_transformado))+ '  Dias Previsão: '+str(dias))\n",
        "    #print(serie_previsao)\n",
        "    plt.legend();\n"
      ],
      "execution_count": 68,
      "outputs": []
    },
    {
      "cell_type": "code",
      "metadata": {
        "id": "TP_XlQ-izK4r",
        "colab_type": "code",
        "colab": {}
      },
      "source": [
        "dias_avaliacao  = [5 , 10 , 30 ]  \n",
        "for dias in dias_avaliacao:\n",
        "    Avalia_modelo(modelo_previsao_acao, dias)"
      ],
      "execution_count": null,
      "outputs": []
    },
    {
      "cell_type": "markdown",
      "metadata": {
        "id": "ZsXF85TDVX19",
        "colab_type": "text"
      },
      "source": [
        "Utiliza o melhor modelo a partir do treino de acordo com a 'validation loss':"
      ]
    },
    {
      "cell_type": "code",
      "metadata": {
        "id": "otqB7MmwVX1-",
        "colab_type": "code",
        "colab": {}
      },
      "source": [
        "Melhor_modelo = RNNModel.load_from_checkpoint(model_name=ACAO+'_'+MODELO, best=True)\n",
        "for dias in dias_avaliacao:\n",
        "    Avalia_modelo(Melhor_modelo, dias)"
      ],
      "execution_count": null,
      "outputs": []
    },
    {
      "cell_type": "markdown",
      "metadata": {
        "id": "sDwUpcvUVX2C",
        "colab_type": "text"
      },
      "source": [
        "### Backtesting\n",
        "Realiza um backtest com um modelo  `RNN` e um horizonte de previsão de 3 meses"
      ]
    },
    {
      "cell_type": "code",
      "metadata": {
        "id": "5Bk7bKV4VX2D",
        "colab_type": "code",
        "colab": {}
      },
      "source": [
        "# Realiza o  backtest\n",
        "backtest_series = backtest_forecasting(series_transformada, modelo_previsao_acao_backtest, pd.Timestamp('20190401'), \n",
        "                                       fcast_horizon_n=3, verbose=True)"
      ],
      "execution_count": null,
      "outputs": []
    },
    {
      "cell_type": "code",
      "metadata": {
        "id": "J3jRU7_SSZOg",
        "colab_type": "code",
        "colab": {}
      },
      "source": [
        "backtest_series"
      ],
      "execution_count": null,
      "outputs": []
    },
    {
      "cell_type": "code",
      "metadata": {
        "id": "1UUVDhESSoL7",
        "colab_type": "code",
        "colab": {}
      },
      "source": [
        "series_transformada[456::]"
      ],
      "execution_count": null,
      "outputs": []
    },
    {
      "cell_type": "code",
      "metadata": {
        "id": "wnOSchGMVX2L",
        "colab_type": "code",
        "colab": {}
      },
      "source": [
        "plt.figure(figsize=(15,10))\n",
        "series_transformada.plot(label='Real', lw=2)\n",
        "backtest_series.plot(label='backtest', lw=2)\n",
        "plt.legend()\n",
        "plt.title('Backtest, Série Transformada -  Iniciando em ABR 2019, com um horizonte de 3 meses');\n",
        "print('MAPE: {:.2f}%'.format(mape(transforma.inverse_transform(series_transformada), \n",
        "                                 transforma.inverse_transform(backtest_series))))"
      ],
      "execution_count": null,
      "outputs": []
    },
    {
      "cell_type": "code",
      "metadata": {
        "id": "ROECbSwcwpA4",
        "colab_type": "code",
        "colab": {}
      },
      "source": [
        "serie_normal = transforma.inverse_transform(series_transformada)\n",
        "serie_backtest_normal = transforma.inverse_transform(backtest_series)\n"
      ],
      "execution_count": 73,
      "outputs": []
    },
    {
      "cell_type": "code",
      "metadata": {
        "id": "QcJ4VE7cxeZ-",
        "colab_type": "code",
        "colab": {}
      },
      "source": [
        "serie_normal\n",
        "plt.figure(figsize=(15,10))\n",
        "serie_normal.plot(label='Real', lw=2)\n",
        "serie_backtest_normal.plot(label='backtest', lw=2)\n",
        "plt.legend()\n",
        "plt.title('Backtest, Série Original Iniciando em ABR 2019, com um horizonte de 3 meses');\n",
        "print('MAPE: {:.2f}%'.format(mape(transforma.inverse_transform(series_transformada), \n",
        "                                 transforma.inverse_transform(backtest_series))))"
      ],
      "execution_count": null,
      "outputs": []
    },
    {
      "cell_type": "markdown",
      "metadata": {
        "id": "oSxLjRfBjVBt",
        "colab_type": "text"
      },
      "source": [
        "# **Métricas**"
      ]
    },
    {
      "cell_type": "code",
      "metadata": {
        "id": "PC18lQ7ZYyu8",
        "colab_type": "code",
        "colab": {}
      },
      "source": [
        "\n",
        "\n",
        "print('***MÉTRICAS**** - Ação - ' + ACAO)\n",
        "print('MAPE                    : {:.2f}%'.format(mape(serie_normal, serie_backtest_normal)))\n",
        "print('Coeficiente de Variação : {:.2f}%'.format(coefficient_of_variation(serie_normal, serie_backtest_normal)))  \n",
        "print('R2_score                : {:.2f}%'.format(r2_score(serie_normal, serie_backtest_normal)))                             \n",
        "print('RMSE                    : {:.2f}%'.format(rmse(serie_normal, serie_backtest_normal,True)))\n",
        "print('MSE                     : {:.2f}%'.format(mse(serie_normal, serie_backtest_normal,True)))"
      ],
      "execution_count": null,
      "outputs": []
    }
  ]
}